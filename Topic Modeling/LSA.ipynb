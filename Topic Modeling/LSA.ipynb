{
 "cells": [
  {
   "cell_type": "markdown",
   "id": "2efaecf5",
   "metadata": {},
   "source": [
    "## LSA\n",
    "TF-IDF 행렬은 단어의 의미를 전혀 고려하지 못함   \n",
    "LSA는 기본적으로 DTM(문서 단어 행렬 : 다수의 문서에서 등장하는 각 단어들의 빈도를 행렬로 표현)이나 TF-IDF 행렬에 절단된 SVD를 사용하여 차원을 축소시키고, 단어들의 잠재적인 의미를 끌어냄"
   ]
  },
  {
   "cell_type": "code",
   "execution_count": 1,
   "id": "2a30b490",
   "metadata": {},
   "outputs": [],
   "source": [
    "import numpy as np"
   ]
  },
  {
   "cell_type": "markdown",
   "id": "0b250dc4",
   "metadata": {},
   "source": [
    "### DTM 만들기"
   ]
  },
  {
   "cell_type": "code",
   "execution_count": 2,
   "id": "478ffa12",
   "metadata": {},
   "outputs": [
    {
     "name": "stdout",
     "output_type": "stream",
     "text": [
      "DTM의 크기 :  (4, 9)\n"
     ]
    }
   ],
   "source": [
    "A = np.array([[0,0,0,1,0,1,1,0,0],[0,0,0,1,1,0,1,0,0],[0,1,1,0,2,0,0,0,0],[1,0,0,0,0,0,0,1,1]])\n",
    "print('DTM의 크기 : ', np.shape(A))"
   ]
  },
  {
   "cell_type": "markdown",
   "id": "2d89ef67",
   "metadata": {},
   "source": [
    "### full SVD"
   ]
  },
  {
   "cell_type": "code",
   "execution_count": 4,
   "id": "695cd3b2",
   "metadata": {},
   "outputs": [
    {
     "name": "stdout",
     "output_type": "stream",
     "text": [
      "행렬 U : \n",
      "[[-0.24  0.75  0.   -0.62]\n",
      " [-0.51  0.44 -0.    0.74]\n",
      " [-0.83 -0.49 -0.   -0.27]\n",
      " [-0.   -0.    1.    0.  ]]\n",
      "행렬 U의 크기(shape) :  (4, 4)\n"
     ]
    }
   ],
   "source": [
    "# U : 행렬 / s : 대각 행렬 / VT : V의 전치 행렬\n",
    "U, s, VT = np.linalg.svd(A, full_matrices = True)\n",
    "\n",
    "print('행렬 U : ')\n",
    "print(U.round(2))\n",
    "print('행렬 U의 크기(shape) : ', np.shape(U))"
   ]
  },
  {
   "cell_type": "code",
   "execution_count": 5,
   "id": "023ff86b",
   "metadata": {},
   "outputs": [
    {
     "name": "stdout",
     "output_type": "stream",
     "text": [
      "특이값 벡터 : \n",
      "[2.69 2.05 1.73 0.77]\n",
      "특이값 벡터의 크기(shape) :  (4,)\n"
     ]
    }
   ],
   "source": [
    "print('특이값 벡터 : ')\n",
    "print(s.round(2))\n",
    "print('특이값 벡터의 크기(shape) : ', np.shape(s))"
   ]
  },
  {
   "cell_type": "code",
   "execution_count": 6,
   "id": "319c7e36",
   "metadata": {},
   "outputs": [
    {
     "name": "stdout",
     "output_type": "stream",
     "text": [
      "대각 행렬 S : \n",
      "[[2.69 0.   0.   0.   0.   0.   0.   0.   0.  ]\n",
      " [0.   2.05 0.   0.   0.   0.   0.   0.   0.  ]\n",
      " [0.   0.   1.73 0.   0.   0.   0.   0.   0.  ]\n",
      " [0.   0.   0.   0.77 0.   0.   0.   0.   0.  ]]\n",
      "대각 행렬의 크기(shape) : \n",
      "(4, 9)\n"
     ]
    }
   ],
   "source": [
    "# 대각 행렬의 크기인 4x9의 임의의 행렬 생성\n",
    "S = np.zeros((4,9))\n",
    "\n",
    "# 특이값을 대각행렬에 삽입\n",
    "S[:4, :4] = np.diag(s)\n",
    "\n",
    "print('대각 행렬 S : ')\n",
    "print(S.round(2))\n",
    "\n",
    "print('대각 행렬의 크기(shape) : ')\n",
    "print(np.shape(S))"
   ]
  },
  {
   "cell_type": "code",
   "execution_count": 7,
   "id": "c1229c85",
   "metadata": {},
   "outputs": [
    {
     "name": "stdout",
     "output_type": "stream",
     "text": [
      "직교행렬 VT : \n",
      "[[-0.   -0.31 -0.31 -0.28 -0.8  -0.09 -0.28 -0.   -0.  ]\n",
      " [ 0.   -0.24 -0.24  0.58 -0.26  0.37  0.58 -0.   -0.  ]\n",
      " [ 0.58 -0.    0.    0.   -0.    0.   -0.    0.58  0.58]\n",
      " [ 0.   -0.35 -0.35  0.16  0.25 -0.8   0.16 -0.   -0.  ]\n",
      " [-0.   -0.78 -0.01 -0.2   0.4   0.4  -0.2   0.    0.  ]\n",
      " [-0.29  0.31 -0.78 -0.24  0.23  0.23  0.01  0.14  0.14]\n",
      " [-0.29 -0.1   0.26 -0.59 -0.08 -0.08  0.66  0.14  0.14]\n",
      " [-0.5  -0.06  0.15  0.24 -0.05 -0.05 -0.19  0.75 -0.25]\n",
      " [-0.5  -0.06  0.15  0.24 -0.05 -0.05 -0.19 -0.25  0.75]]\n",
      "직교 행렬 VT의 크기(shape) : \n",
      "(9, 9)\n"
     ]
    }
   ],
   "source": [
    "print('직교행렬 VT : ')\n",
    "print(VT.round(2))\n",
    "\n",
    "print('직교 행렬 VT의 크기(shape) : ')\n",
    "print(np.shape(VT))"
   ]
  },
  {
   "cell_type": "code",
   "execution_count": 8,
   "id": "57f1b889",
   "metadata": {},
   "outputs": [
    {
     "data": {
      "text/plain": [
       "True"
      ]
     },
     "execution_count": 8,
     "metadata": {},
     "output_type": "execute_result"
    }
   ],
   "source": [
    "# U * S * VT = A 확인\n",
    "np.allclose(A, np.dot(np.dot(U,S), VT).round(2))"
   ]
  },
  {
   "cell_type": "markdown",
   "id": "b6cb986d",
   "metadata": {},
   "source": [
    "### 절단된 SVD"
   ]
  },
  {
   "cell_type": "code",
   "execution_count": 9,
   "id": "f87e5ffa",
   "metadata": {},
   "outputs": [
    {
     "name": "stdout",
     "output_type": "stream",
     "text": [
      "대각 행렬 S : \n",
      "[[2.69 0.  ]\n",
      " [0.   2.05]]\n"
     ]
    }
   ],
   "source": [
    "# 특이값 상위 2개만 보존\n",
    "S = S[:2, :2]\n",
    "\n",
    "print('대각 행렬 S : ')\n",
    "print(S.round(2))"
   ]
  },
  {
   "cell_type": "code",
   "execution_count": 13,
   "id": "96932de7",
   "metadata": {},
   "outputs": [
    {
     "name": "stdout",
     "output_type": "stream",
     "text": [
      "행렬 U : \n",
      "[[-0.24  0.75]\n",
      " [-0.51  0.44]\n",
      " [-0.83 -0.49]\n",
      " [-0.   -0.  ]]\n",
      "(4, 2)\n"
     ]
    }
   ],
   "source": [
    "U = U[:, :2]\n",
    "\n",
    "print('행렬 U : ')\n",
    "print(U.round(2))\n",
    "print(np.shape(U))"
   ]
  },
  {
   "cell_type": "markdown",
   "id": "e4cf1ea9",
   "metadata": {},
   "source": [
    "축소된 U는 4x2의 크기를 가짐   \n",
    "이는 문서의 개수 x 토픽의 수 t의 크기   \n",
    "단어의 개수인 9는 유지되지 않는데 문서의 개수인 4의 크기가 유지됨   \n",
    "=> 4개의 문서 각각을 2개의 값으로 표현   \n",
    "   \n",
    "=>> U의 각 행은 잠재 의미를 표현하기 위한 수치화 된 각각의 문서 벡터\n"
   ]
  },
  {
   "cell_type": "code",
   "execution_count": 11,
   "id": "f41e106b",
   "metadata": {},
   "outputs": [
    {
     "name": "stdout",
     "output_type": "stream",
     "text": [
      "직교행렬 VT : \n",
      "[[-0.   -0.31 -0.31 -0.28 -0.8  -0.09 -0.28 -0.   -0.  ]\n",
      " [ 0.   -0.24 -0.24  0.58 -0.26  0.37  0.58 -0.   -0.  ]]\n"
     ]
    }
   ],
   "source": [
    "VT = VT[:2, :]\n",
    "\n",
    "print('직교행렬 VT : ')\n",
    "print(VT.round(2))"
   ]
  },
  {
   "cell_type": "markdown",
   "id": "006382a3",
   "metadata": {},
   "source": [
    "축소된 VT는 2x9의 크기를 가짐   \n",
    "이는 토픽의 수 t x 단어의 개수의 크기   \n",
    "   \n",
    "=>> VT의 각 열은 잠재 의미를 표현하기 위해 수치화된 각각의 단어 벡터"
   ]
  },
  {
   "cell_type": "code",
   "execution_count": 12,
   "id": "471227e1",
   "metadata": {},
   "outputs": [
    {
     "name": "stdout",
     "output_type": "stream",
     "text": [
      "[[0 0 0 1 0 1 1 0 0]\n",
      " [0 0 0 1 1 0 1 0 0]\n",
      " [0 1 1 0 2 0 0 0 0]\n",
      " [1 0 0 0 0 0 0 1 1]]\n",
      "[[ 0.   -0.17 -0.17  1.08  0.12  0.62  1.08 -0.   -0.  ]\n",
      " [ 0.    0.2   0.2   0.91  0.86  0.45  0.91  0.    0.  ]\n",
      " [ 0.    0.93  0.93  0.03  2.05 -0.17  0.03  0.    0.  ]\n",
      " [ 0.    0.    0.    0.    0.   -0.    0.    0.    0.  ]]\n"
     ]
    }
   ],
   "source": [
    "A_prime = np.dot(np.dot(U,S), VT)\n",
    "\n",
    "print(A)\n",
    "print(A_prime.round(2))"
   ]
  }
 ],
 "metadata": {
  "kernelspec": {
   "display_name": "Python 3 (ipykernel)",
   "language": "python",
   "name": "python3"
  },
  "language_info": {
   "codemirror_mode": {
    "name": "ipython",
    "version": 3
   },
   "file_extension": ".py",
   "mimetype": "text/x-python",
   "name": "python",
   "nbconvert_exporter": "python",
   "pygments_lexer": "ipython3",
   "version": "3.8.12"
  }
 },
 "nbformat": 4,
 "nbformat_minor": 5
}
