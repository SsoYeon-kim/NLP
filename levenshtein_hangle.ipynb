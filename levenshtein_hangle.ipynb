{
 "cells": [
  {
   "cell_type": "markdown",
   "id": "7a457d1f",
   "metadata": {},
   "source": [
    "# https://lovit.github.io/nlp/2018/08/28/levenshtein_hangle/\n",
    "   \n",
    "      \n",
    "### s1, s2에 대해 list의 각 element를 순서대로 확인   \n",
    "   \n",
    "Python str은 list of characters이기 떄문에 enumrate(str)은 한 글자씩 yield함"
   ]
  },
  {
   "cell_type": "code",
   "execution_count": 6,
   "id": "e30d159e",
   "metadata": {},
   "outputs": [],
   "source": [
    "def levenshtein(s1, s2, debug=False):\n",
    "    if len(s1) < len(s2):\n",
    "        return levenshtein(s2, s1, debug)\n",
    "    \n",
    "    if len(s2) == 0:\n",
    "        return len(s1)\n",
    "    \n",
    "    previous_row = range(len(s2) + 1)\n",
    "    \n",
    "    for i, c1 in enumerate(s1):\n",
    "        current_row = [i + 1]\n",
    "        for j, c2 in enumerate(s2):\n",
    "            insertions = previous_row[j + 1] + 1\n",
    "            deletions = current_row[j] + 1\n",
    "            substitutions = previous_row[j] + (c1 != c2)\n",
    "            current_row.append(min(insertions, deletions, substitutions))\n",
    "        \n",
    "        if debug:\n",
    "            print(current_row[1:])\n",
    "        \n",
    "        previous_row = current_row\n",
    "        \n",
    "    return previous_row[-1]"
   ]
  },
  {
   "cell_type": "code",
   "execution_count": 20,
   "id": "dcaea17f",
   "metadata": {},
   "outputs": [
    {
     "name": "stdout",
     "output_type": "stream",
     "text": [
      "[1, 2, 3, 4, 5]\n",
      "[2, 2, 3, 4, 5]\n",
      "[3, 3, 3, 4, 5]\n",
      "[4, 4, 4, 4, 5]\n",
      "[4, 5, 5, 4, 5]\n",
      "[5, 4, 5, 5, 4]\n",
      "\n",
      "\n",
      "[1, 2, 3, 4, 5]\n",
      "[2, 2, 2, 3, 4]\n",
      "[2, 3, 3, 3, 4]\n",
      "[3, 3, 4, 3, 4]\n",
      "[4, 4, 4, 4, 3]\n",
      "\n",
      "\n",
      "[1, 2, 3, 4, 5, 6, 6, 7]\n",
      "[2, 2, 3, 4, 5, 6, 7, 6]\n",
      "[3, 3, 3, 4, 4, 5, 6, 7]\n",
      "[4, 4, 3, 4, 5, 4, 5, 6]\n",
      "[4, 5, 4, 4, 5, 5, 5, 6]\n",
      "[5, 4, 5, 5, 5, 6, 6, 6]\n",
      "[6, 5, 4, 5, 6, 5, 6, 7]\n",
      "[7, 6, 5, 5, 6, 6, 6, 7]\n",
      "[8, 7, 6, 6, 6, 7, 7, 7]\n"
     ]
    },
    {
     "data": {
      "text/plain": [
       "7"
      ]
     },
     "execution_count": 20,
     "metadata": {},
     "output_type": "execute_result"
    }
   ],
   "source": [
    "s1 = '꿈을꾸는아이'\n",
    "s2 = '아이오아이'\n",
    "levenshtein(s1, s2, debug=True)\n",
    "    \n",
    "print('\\n')\n",
    "    \n",
    "s3 = '감나 다라'\n",
    "s4 = ' 가나다라'\n",
    "levenshtein(s3, s4, debug=True)\n",
    "    \n",
    "print('\\n')\n",
    "    \n",
    "s5 = '꿈을 꾸는 아이'\n",
    "s6 = '아이는 꿈을 꿔요'\n",
    "levenshtein(s5, s6, debug=True)"
   ]
  },
  {
   "cell_type": "markdown",
   "id": "2367400f",
   "metadata": {},
   "source": [
    "### 띄어쓰기 기준으로 나뉘어지는 어절로 거리 계산   \n",
    "   \n",
    "split()해서 list of str이 되도록 입력라면 어절 단위로 거리가 계산"
   ]
  },
  {
   "cell_type": "code",
   "execution_count": 8,
   "id": "3fb190c3",
   "metadata": {},
   "outputs": [
    {
     "name": "stdout",
     "output_type": "stream",
     "text": [
      "[1, 1, 2]\n",
      "[2, 2, 2]\n",
      "[3, 3, 3]\n"
     ]
    },
    {
     "data": {
      "text/plain": [
       "3"
      ]
     },
     "execution_count": 8,
     "metadata": {},
     "output_type": "execute_result"
    }
   ],
   "source": [
    "s7 = '꿈을 꾸는 아이'\n",
    "s8 = '아이는 꿈을 꿔요'\n",
    "levenshtein(s7.split(), s8.split(), debug=True)"
   ]
  },
  {
   "cell_type": "markdown",
   "id": "18c2adae",
   "metadata": {},
   "source": [
    "### cost 계산 (c1이 c2로 변하는 비용)   \n",
    "   \n",
    "특정한 글자가 서로 자주 교차될 때 (ex_ 서비스 -> 써비스)   \n",
    "초성이 된소리가 되거나, 종성에 'ㅇ' 받침이 추가되는 경우가 잦다면   \n",
    "이 때의 edit distance의 비용을 글자에 따라 다르게 부과"
   ]
  },
  {
   "cell_type": "code",
   "execution_count": 9,
   "id": "2c45b8fb",
   "metadata": {},
   "outputs": [],
   "source": [
    "def levenshtein2(s1, s2, cost=None, debug=False):\n",
    "    if len(s1) < len(s2):\n",
    "        return levenshtein2(s2, s1, deug=debug)\n",
    "    \n",
    "    if len(s2) == 0:\n",
    "        return len(s1)\n",
    "    \n",
    "    if cost is None:\n",
    "        cost = {}\n",
    "    \n",
    "    def substitution_cost(c1, c2):\n",
    "        if c1 == c2:\n",
    "            return 0\n",
    "        return cost.get((c1, c2), 1)\n",
    "    \n",
    "    previous_row = range(len(s2) + 1)\n",
    "    \n",
    "    for i, c1 in enumerate(s1):\n",
    "        current_row = [i + 1]\n",
    "        for j, c2 in enumerate(s2):\n",
    "            insertions = previous_row[j + 1] + 1\n",
    "            deletions = current_row[j] + 1\n",
    "            substitutions = previous_row[i] + substitution_cost(c1, c2)\n",
    "            current_row.append(min(insertions, deletions, substitutions))\n",
    "        \n",
    "        if debug:\n",
    "            print(current_row[1:])\n",
    "        \n",
    "        previous_row = current_row\n",
    "    \n",
    "    return previous_row[-1]"
   ]
  },
  {
   "cell_type": "code",
   "execution_count": 10,
   "id": "474f5926",
   "metadata": {},
   "outputs": [
    {
     "name": "stdout",
     "output_type": "stream",
     "text": [
      "[0, 1, 1, 1]\n",
      "[1, 0, 1, 1]\n",
      "[1, 1, 1, 1]\n",
      "[2, 2, 2, 1]\n",
      "\n",
      "\n",
      "[0, 1, 1, 1]\n",
      "[1, 0, 1, 1]\n",
      "[1, 1, 0.1, 1]\n",
      "[1.1, 1.1, 1.1, 0.1]\n"
     ]
    },
    {
     "data": {
      "text/plain": [
       "0.1"
      ]
     },
     "execution_count": 10,
     "metadata": {},
     "output_type": "execute_result"
    }
   ],
   "source": [
    "s9 = '아이쿠야'\n",
    "s10 = '아이쿵야'\n",
    "levenshtein2(s9, s10, debug=True)\n",
    "\n",
    "print('\\n')\n",
    "\n",
    "cost = {('쿠', '쿵'):0.1}\n",
    "levenshtein2(s9, s10, cost, debug=True)"
   ]
  },
  {
   "cell_type": "markdown",
   "id": "51c51667",
   "metadata": {},
   "source": [
    "### 초/중/종성 분리   \n",
    "   \n",
    "need : '쿠'와 '쿵'이 초/중/종성 중 종성만 다르니 거리를 1/3으로 정의   \n",
    "   \n",
    "컴퓨터는 각 글자에 대한 숫자가 정의되어 있음 (=encoding) (= 각 글자의 고유 아이디)   \n",
    "Python에서 글자를 아이디로 변형하기 위해 ord 함수 사용   "
   ]
  },
  {
   "cell_type": "code",
   "execution_count": 11,
   "id": "c3d44692",
   "metadata": {},
   "outputs": [
    {
     "name": "stdout",
     "output_type": "stream",
     "text": [
      "a == 97\n",
      "z == 122\n",
      "A == 65\n",
      "Z == 90\n",
      "가 == 44032\n",
      "힣 == 55203\n",
      "ㄱ == 12593\n",
      "ㄴ == 12596\n",
      "ㅎ == 12622\n",
      "ㅏ == 12623\n"
     ]
    }
   ],
   "source": [
    "for char in 'azAZ가힣ㄱㄴㅎㅏ':\n",
    "    print('{} == {}'.format(char, ord(char)))"
   ]
  },
  {
   "cell_type": "code",
   "execution_count": 19,
   "id": "140120cb",
   "metadata": {},
   "outputs": [
    {
     "name": "stdout",
     "output_type": "stream",
     "text": [
      "  == 32\n"
     ]
    }
   ],
   "source": [
    "for char in ' ':\n",
    "    print('{} == {}'.format(char, ord(char)))"
   ]
  },
  {
   "cell_type": "markdown",
   "id": "39c35438",
   "metadata": {},
   "source": [
    "숫자로 표현된 글자의 고유 아이디를 글자로 변형하기 위해 chr 함수 사용"
   ]
  },
  {
   "cell_type": "code",
   "execution_count": 12,
   "id": "25051cc1",
   "metadata": {},
   "outputs": [
    {
     "name": "stdout",
     "output_type": "stream",
     "text": [
      "97 == a\n",
      "122 == z\n",
      "65 == A\n",
      "90 == Z\n",
      "44032 == 가\n",
      "55203 == 힣\n"
     ]
    }
   ],
   "source": [
    "for idx in [97, 122, 65, 90, 44032, 55203]:\n",
    "    print('{} == {}'.format(idx, chr(idx)))"
   ]
  },
  {
   "cell_type": "markdown",
   "id": "a4ecb3cc",
   "metadata": {},
   "source": [
    "완전 한글과 초/중/종성 사이에는 합성 규칙이 있음   \n",
    "   \n",
    "#### 초/중/종성으로 분해   \n",
    "1. ord로 글자를 숫자로 변형\n",
    "2. 완전 한글의 시작값 44032('가')를 뺴줌\n",
    "3. 초성의 기본값(588), 중성의 기본값(28)으로 나눔\n",
    "4. 몫 : 초, 중성 list의 index\n",
    "5. 나머지 : 종성 list의 index\n",
    "   \n",
    "Composition은 반대로 진행"
   ]
  },
  {
   "cell_type": "code",
   "execution_count": 13,
   "id": "a378c27e",
   "metadata": {},
   "outputs": [],
   "source": [
    "kor_begin = 44032\n",
    "kor_end = 55203\n",
    "chosung_base = 588\n",
    "jungsung_base = 28\n",
    "jaum_begin = 12593\n",
    "jaum_end = 12622\n",
    "moum_begin = 12623\n",
    "moum_end = 12643\n",
    "\n",
    "chosung_list = [ 'ㄱ', 'ㄲ', 'ㄴ', 'ㄷ', 'ㄸ', 'ㄹ', 'ㅁ', 'ㅂ', 'ㅃ', \n",
    "        'ㅅ', 'ㅆ', 'ㅇ' , 'ㅈ', 'ㅉ', 'ㅊ', 'ㅋ', 'ㅌ', 'ㅍ', 'ㅎ']\n",
    "\n",
    "jungsung_list = ['ㅏ', 'ㅐ', 'ㅑ', 'ㅒ', 'ㅓ', 'ㅔ', \n",
    "        'ㅕ', 'ㅖ', 'ㅗ', 'ㅘ', 'ㅙ', 'ㅚ', \n",
    "        'ㅛ', 'ㅜ', 'ㅝ', 'ㅞ', 'ㅟ', 'ㅠ', \n",
    "        'ㅡ', 'ㅢ', 'ㅣ']\n",
    "\n",
    "jongsung_list = [\n",
    "    ' ', 'ㄱ', 'ㄲ', 'ㄳ', 'ㄴ', 'ㄵ', 'ㄶ', 'ㄷ',\n",
    "        'ㄹ', 'ㄺ', 'ㄻ', 'ㄼ', 'ㄽ', 'ㄾ', 'ㄿ', 'ㅀ', \n",
    "        'ㅁ', 'ㅂ', 'ㅄ', 'ㅅ', 'ㅆ', 'ㅇ', 'ㅈ', 'ㅊ', \n",
    "        'ㅋ', 'ㅌ', 'ㅍ', 'ㅎ']\n",
    "\n",
    "jaum_list = ['ㄱ', 'ㄲ', 'ㄳ', 'ㄴ', 'ㄵ', 'ㄶ', 'ㄷ', 'ㄸ', 'ㄹ', \n",
    "              'ㄺ', 'ㄻ', 'ㄼ', 'ㄽ', 'ㄾ', 'ㄿ', 'ㅀ', 'ㅁ', 'ㅂ', \n",
    "              'ㅃ', 'ㅄ', 'ㅅ', 'ㅆ', 'ㅇ', 'ㅈ', 'ㅉ', 'ㅊ', 'ㅋ', 'ㅌ', 'ㅍ', 'ㅎ']\n",
    "\n",
    "moum_list = ['ㅏ', 'ㅐ', 'ㅑ', 'ㅒ', 'ㅓ', 'ㅔ', 'ㅕ', 'ㅖ', 'ㅗ', 'ㅘ', \n",
    "              'ㅙ', 'ㅚ', 'ㅛ', 'ㅜ', 'ㅝ', 'ㅞ', 'ㅟ', 'ㅠ', 'ㅡ', 'ㅢ', 'ㅣ']\n",
    "\n",
    "def compose(chosung, jungsung, jongsung):\n",
    "    char = chr(\n",
    "        kor_begin + \n",
    "        chosung_base * chosung_list.index(chosung) + \n",
    "        jungsung_base * jungsung_list.index(jungsung) + \n",
    "        jongsung_list.index(jongsung)\n",
    "    )\n",
    "    return char\n",
    "\n",
    "def decompose(c):\n",
    "    if not character_is_korean(c):\n",
    "        return None\n",
    "    \n",
    "    i = ord(c)\n",
    "    if(jaum_begin <= i <= jaum_end):\n",
    "        return (c, ' ', ' ')\n",
    "    if(moum_begin <= i <= moum_end):\n",
    "        return (' ', c, ' ')\n",
    "    \n",
    "    #deconposition rule\n",
    "    i -= kor_begin\n",
    "    cho = i // chosung_base\n",
    "    jung = (i - cho * chosung_base) // jungsung_base\n",
    "    jong = (i - cho * chosung_base - jung * jungsung_base)\n",
    "    \n",
    "    return (chosung_list[cho], jungsung_list[jung], jongsung_list[jong])\n",
    "\n",
    "def character_is_korean(c):\n",
    "    i = ord(c)\n",
    "    return ((kor_begin <= i <= kor_end) or\n",
    "           (jaum_begin <= i <= jaum_end) or\n",
    "           (moum_begin <= i <= moum_end))"
   ]
  },
  {
   "cell_type": "code",
   "execution_count": 14,
   "id": "f8376702",
   "metadata": {},
   "outputs": [
    {
     "data": {
      "text/plain": [
       "('ㄱ', 'ㅣ', 'ㅁ')"
      ]
     },
     "execution_count": 14,
     "metadata": {},
     "output_type": "execute_result"
    }
   ],
   "source": [
    "decompose('김')"
   ]
  },
  {
   "cell_type": "code",
   "execution_count": 15,
   "id": "8df4e376",
   "metadata": {},
   "outputs": [
    {
     "data": {
      "text/plain": [
       "'김'"
      ]
     },
     "execution_count": 15,
     "metadata": {},
     "output_type": "execute_result"
    }
   ],
   "source": [
    "compose('ㄱ', 'ㅣ', 'ㅁ')"
   ]
  },
  {
   "cell_type": "markdown",
   "id": "e5853109",
   "metadata": {},
   "source": [
    "### 초/중/종성 분리를 적용한 Levenshtein   \n",
    "   \n",
    "cost함수를 변경   \n",
    "비용 0 : 두 글자가 같은 경우   \n",
    "Levenshtein distance(초/중/종성 단위에서의) 계산 : 그렇지 않은 경우   \n",
    "   \n",
    "거리 값의 범위가 0~3이므로, 이를 3으로 나눠줌"
   ]
  },
  {
   "cell_type": "code",
   "execution_count": 16,
   "id": "23428648",
   "metadata": {},
   "outputs": [],
   "source": [
    "def jamo_levenshtein(s1, s2, debug=False):\n",
    "    if len(s1) < len(s2):\n",
    "        return jamo_levenshtein(s2, s1, debug)\n",
    "    \n",
    "    if len(s2) == 0:\n",
    "        return len(s1)\n",
    "    \n",
    "    def substitution_cost(c1, c2):\n",
    "        if c1 == c2:\n",
    "            return 0\n",
    "        return levenshtein(decompose(c1), decompose(c2))/3\n",
    "    \n",
    "    previous_row = range(len(s2) + 1)\n",
    "    \n",
    "    for i, c1 in enumerate(s1):\n",
    "        current_row = [i + 1]\n",
    "        for j, c2 in enumerate(s2):\n",
    "            insertions = previous_row[j + 1] + 1\n",
    "            deletions = current_row[j] + 1\n",
    "            substitutions = previous_row[j] + substitution_cost(c1, c2)\n",
    "            current_row.append(min(insertions, deletions, substitutions))\n",
    "            \n",
    "        if debug : \n",
    "            print(['%.3f'%v for v in current_row[1:]])\n",
    "            \n",
    "        previous_row = current_row\n",
    "    \n",
    "    return previous_row[-1]"
   ]
  },
  {
   "cell_type": "code",
   "execution_count": 26,
   "id": "40d87e23",
   "metadata": {},
   "outputs": [
    {
     "name": "stdout",
     "output_type": "stream",
     "text": [
      "['0.000', '1.000', '2.000', '3.000']\n",
      "['1.000', '0.000', '1.000', '2.000']\n",
      "['2.000', '1.000', '0.333', '1.333']\n",
      "['3.000', '2.000', '1.333', '0.333']\n",
      "\n",
      "\n",
      "['0.667', '1.667', '2.667', '3.667', '4.667']\n",
      "['1.667', '1.333', '2.333', '3.000', '4.000']\n",
      "['2.667', '2.333', '2.000', '2.667', '3.333']\n",
      "['3.667', '3.333', '2.667', '2.000', '3.000']\n",
      "['4.667', '4.333', '3.667', '3.000', '2.000']\n"
     ]
    },
    {
     "data": {
      "text/plain": [
       "2.0"
      ]
     },
     "execution_count": 26,
     "metadata": {},
     "output_type": "execute_result"
    }
   ],
   "source": [
    "s11 = '아이쿠야'\n",
    "s12 = '아이쿵야'\n",
    "jamo_levenshtein(s11, s12, debug=True)\n",
    "\n",
    "print(\"\\n\")\n",
    "\n",
    "s13 = '감나나다라'\n",
    "s14 = '임츄듀다라'\n",
    "jamo_levenshtein(s13, s14, debug=True)"
   ]
  },
  {
   "cell_type": "markdown",
   "id": "f28461d4",
   "metadata": {},
   "source": [
    "### soynlp"
   ]
  },
  {
   "cell_type": "code",
   "execution_count": null,
   "id": "8e1ce5b4",
   "metadata": {},
   "outputs": [],
   "source": [
    "from soynlp.hangle import levenshtein\n",
    "from soynlp.hangle import jamo_levenshtein\n",
    "\n",
    "s1 = '아이쿠야'\n",
    "s2 = '아이쿵야'\n",
    "\n",
    "print(levenshtein(s1, s2)) # 1\n",
    "print(jamo_levenshtein(s1, s2)) # 0.3333333333333333"
   ]
  }
 ],
 "metadata": {
  "kernelspec": {
   "display_name": "Python 3 (ipykernel)",
   "language": "python",
   "name": "python3"
  },
  "language_info": {
   "codemirror_mode": {
    "name": "ipython",
    "version": 3
   },
   "file_extension": ".py",
   "mimetype": "text/x-python",
   "name": "python",
   "nbconvert_exporter": "python",
   "pygments_lexer": "ipython3",
   "version": "3.7.9"
  }
 },
 "nbformat": 4,
 "nbformat_minor": 5
}
